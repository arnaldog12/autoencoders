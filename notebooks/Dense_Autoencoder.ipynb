{
 "cells": [
  {
   "cell_type": "markdown",
   "metadata": {
    "id": "SiNU_U51s4TL"
   },
   "source": [
    "# Setup"
   ]
  },
  {
   "cell_type": "code",
   "execution_count": null,
   "metadata": {
    "id": "PfSR5shssQ3u",
    "notebookRunGroups": {
     "groupValue": "1"
    }
   },
   "outputs": [],
   "source": [
    "import numpy as np\n",
    "import matplotlib.pyplot as plt\n",
    "import tensorflow as tf\n",
    "from tensorflow.keras.datasets import mnist\n",
    "from tensorflow.keras.models import Sequential, Model\n",
    "from tensorflow.keras.layers import Dense, Flatten, Reshape\n",
    "\n",
    "%matplotlib inline"
   ]
  },
  {
   "cell_type": "code",
   "execution_count": null,
   "metadata": {
    "cellView": "form",
    "id": "TUU8cL1xRYRI",
    "notebookRunGroups": {
     "groupValue": "1"
    }
   },
   "outputs": [],
   "source": [
    "def plot_random_batch(batch, y_true, y_pred=None, batch_size=30, n_cols=10, figsize=(20, 10)):\n",
    "    plt.figure(figsize=figsize)\n",
    "\n",
    "    random_idx = np.random.choice(batch.shape[0], size=batch_size)\n",
    "    x_batch = batch[random_idx].squeeze()\n",
    "    y_batch = y_true[random_idx]\n",
    "\n",
    "    y_pred = y_batch if y_pred is None else y_pred[random_idx]\n",
    "    n_rows = x_batch.shape[0] // n_cols + 1\n",
    "    is_gray = (batch.shape[-1] == 1) or (len(batch.shape) == 3)\n",
    "    for img, true, pred, sub in zip(x_batch, y_batch, y_pred, range(1, len(batch)+1)):\n",
    "        plt.subplot(n_rows, n_cols, sub)\n",
    "        plt.imshow(img.astype(np.uint8), cmap='gray' if is_gray else None)\n",
    "\n",
    "        plt.title(\"T:{} P:{}\".format(true, pred), color = 'green' if true == pred else 'red')\n",
    "        plt.axis('off')\n",
    "    plt.tight_layout()\n",
    "\n",
    "def plot_history(history, figsize=(12, 4), loss_train_key='loss', loss_val_key='val_loss', metric_train_key='accuracy', metric_val_key='val_accuracy'):\n",
    "    loss_train = history.get(loss_train_key, [])\n",
    "    loss_valid = history.get(loss_val_key, [])\n",
    "    metric_train = history.get(metric_train_key, [])\n",
    "    metric_valid = history.get(metric_val_key, [])\n",
    "\n",
    "    plt.figure(figsize=figsize)\n",
    "    plt.subplot(1, 2, 1)\n",
    "    plt.plot(loss_train, label='train')\n",
    "    plt.plot(loss_valid, label='val')\n",
    "    plt.ylim(0)\n",
    "    plt.legend()\n",
    "\n",
    "    if len(metric_train) > 0 or len(metric_valid) > 0:\n",
    "        plt.subplot(1, 2, 2)\n",
    "        plt.plot(metric_train, label='train')\n",
    "        plt.plot(metric_valid, label='val')\n",
    "        plt.ylim(top=1)\n",
    "        plt.legend()"
   ]
  },
  {
   "cell_type": "markdown",
   "metadata": {
    "id": "38Gyfmxos7JT"
   },
   "source": [
    "# Data Loading"
   ]
  },
  {
   "cell_type": "code",
   "execution_count": null,
   "metadata": {
    "colab": {
     "base_uri": "https://localhost:8080/"
    },
    "id": "EjrxbN0rs1cE",
    "notebookRunGroups": {
     "groupValue": "1"
    },
    "outputId": "b26ac21e-853c-4329-9ec8-e51aa8f30edc"
   },
   "outputs": [],
   "source": [
    "(x_train, y_train), (x_test, y_test) = mnist.load_data()\n",
    "\n",
    "print(x_train.shape, x_train.dtype)\n",
    "print(x_test.shape, x_test.dtype)"
   ]
  },
  {
   "cell_type": "code",
   "execution_count": null,
   "metadata": {
    "colab": {
     "base_uri": "https://localhost:8080/",
     "height": 357
    },
    "id": "NTDsr9U4RibQ",
    "notebookRunGroups": {
     "groupValue": "1"
    },
    "outputId": "f2de887a-e322-4655-f3c2-1bc7b1df8687"
   },
   "outputs": [],
   "source": [
    "plot_random_batch(x_train, y_train)"
   ]
  },
  {
   "cell_type": "markdown",
   "metadata": {
    "id": "onrCPfvptspt"
   },
   "source": [
    "# Autoencoder"
   ]
  },
  {
   "cell_type": "code",
   "execution_count": null,
   "metadata": {
    "colab": {
     "base_uri": "https://localhost:8080/"
    },
    "id": "iSGz9z4NTlvt",
    "notebookRunGroups": {
     "groupValue": "1"
    },
    "outputId": "f1ed2d89-7d1d-405e-e980-414e5a1ad749"
   },
   "outputs": [],
   "source": [
    "x_train = x_train.reshape(-1, 28*28) / 255\n",
    "x_test = x_test.reshape(-1, 28*28) / 255\n",
    "\n",
    "print(x_train.shape)\n",
    "print(x_test.shape)"
   ]
  },
  {
   "cell_type": "code",
   "execution_count": null,
   "metadata": {
    "colab": {
     "base_uri": "https://localhost:8080/",
     "height": 1000
    },
    "id": "PJTuprDXtRS9",
    "notebookRunGroups": {
     "groupValue": "1"
    },
    "outputId": "3ccc7772-f5b6-415e-81d4-e4d5720f2c34"
   },
   "outputs": [],
   "source": [
    "model = Sequential([\n",
    "    # encoder\n",
    "    Dense(units=512, activation='relu', input_dim=28*28),\n",
    "    Dense(units=128, activation='relu'),\n",
    "    Dense(units=2, activation='linear', name='encoded'),\n",
    "\n",
    "    # decoder\n",
    "    Dense(units=128, activation='relu', name='dec_1'),\n",
    "    Dense(units=512, activation='relu', name='dec_2'),\n",
    "    Dense(units=28*28, activation='linear', name='decoded')\n",
    "])\n",
    "model.summary()\n",
    "\n",
    "# mse pra tentar predizer o valor do pixel\n",
    "model.compile(optimizer='adam', loss='mse')\n",
    "\n",
    "hist = model.fit(x_train, x_train, batch_size=128, epochs=30, verbose=1, validation_split=0.2)\n",
    "\n",
    "plot_history(hist.history)"
   ]
  },
  {
   "cell_type": "code",
   "execution_count": null,
   "metadata": {
    "colab": {
     "base_uri": "https://localhost:8080/",
     "height": 277
    },
    "id": "Go1Y8RaquR8r",
    "outputId": "cb3568fd-269f-456c-e2c0-d2d7329f3be6"
   },
   "outputs": [],
   "source": [
    "n_imgs = 10\n",
    "\n",
    "random_idxs = np.random.choice(range(x_test.shape[0]), size=n_imgs)\n",
    "im_ori = x_test[random_idxs]\n",
    "im_dec = model.predict(im_ori)\n",
    "\n",
    "plt.figure(figsize=(20, 4))\n",
    "for i in range(n_imgs):\n",
    "    plt.subplot(2, n_imgs, i + 1)\n",
    "    plt.imshow(im_ori[i].reshape(28, 28), cmap='gray')\n",
    "\n",
    "    plt.subplot(2, n_imgs, i + 1 + n_imgs)\n",
    "    plt.imshow(im_dec[i].reshape(28, 28), cmap='gray')"
   ]
  },
  {
   "cell_type": "markdown",
   "metadata": {
    "id": "vlTDn2ny5LXz"
   },
   "source": [
    "# Visualizando os embeddings"
   ]
  },
  {
   "cell_type": "code",
   "execution_count": null,
   "metadata": {
    "colab": {
     "base_uri": "https://localhost:8080/"
    },
    "id": "pQ4KAmOEwWA6",
    "outputId": "124d3d0f-8522-4298-d246-db17fd8fca58"
   },
   "outputs": [],
   "source": [
    "encoder = Model(inputs=model.input, outputs=model.get_layer(name='encoded').output)\n",
    "x_test_enc = encoder.predict(x_test)\n",
    "x_test_enc.shape"
   ]
  },
  {
   "cell_type": "code",
   "execution_count": null,
   "metadata": {
    "colab": {
     "base_uri": "https://localhost:8080/",
     "height": 908
    },
    "id": "u-wmCQUEwy9n",
    "outputId": "146e1e94-70c2-4d40-f030-4d84312abe69"
   },
   "outputs": [],
   "source": [
    "plt.figure(figsize=(12, 10))\n",
    "plt.scatter(x_test_enc[:, 0], x_test_enc[:, 1], c=y_test, cmap=plt.cm.get_cmap('Spectral', 10), s=5)\n",
    "plt.colorbar()"
   ]
  },
  {
   "cell_type": "markdown",
   "metadata": {
    "id": "3O-ygUkI5PIb"
   },
   "source": [
    "# Reconstruindo uma imagem"
   ]
  },
  {
   "cell_type": "code",
   "execution_count": null,
   "metadata": {
    "colab": {
     "base_uri": "https://localhost:8080/"
    },
    "id": "fxv8NeRx1O8G",
    "outputId": "a16907e0-ccc0-4e0a-ecb7-ac8cd629c931"
   },
   "outputs": [],
   "source": [
    "decoder = Sequential()\n",
    "decoder.add(Dense(units=128, activation='relu', input_dim=2))\n",
    "decoder.add(Dense(units=512, activation='relu'))\n",
    "decoder.add(Dense(units=784, activation='linear'))\n",
    "decoder.summary()\n",
    "\n",
    "weights = []\n",
    "for layer in ['dec_1', 'dec_2', 'decoded']:\n",
    "    w = model.get_layer(layer).get_weights()\n",
    "    weights.append(w[0])\n",
    "    weights.append(w[1])\n",
    "\n",
    "decoder.set_weights(weights)"
   ]
  },
  {
   "cell_type": "code",
   "execution_count": null,
   "metadata": {
    "colab": {
     "base_uri": "https://localhost:8080/",
     "height": 465
    },
    "id": "HwRaG7SVyJei",
    "outputId": "0ec3aead-4e5b-4d58-842b-4dc75e997d84"
   },
   "outputs": [],
   "source": [
    "im_pred = decoder.predict(np.array([[-10.0, 0.0]])).reshape((28, 28))\n",
    "plt.imshow(im_pred, cmap='gray')"
   ]
  },
  {
   "cell_type": "code",
   "execution_count": null,
   "metadata": {
    "id": "ag8h6vHdX0sX"
   },
   "outputs": [],
   "source": []
  }
 ],
 "metadata": {
  "accelerator": "GPU",
  "colab": {
   "provenance": []
  },
  "kernelspec": {
   "display_name": "Python 3 (ipykernel)",
   "language": "python",
   "name": "python3"
  },
  "language_info": {
   "codemirror_mode": {
    "name": "ipython",
    "version": 3
   },
   "file_extension": ".py",
   "mimetype": "text/x-python",
   "name": "python",
   "nbconvert_exporter": "python",
   "pygments_lexer": "ipython3",
   "version": "3.9.16"
  }
 },
 "nbformat": 4,
 "nbformat_minor": 1
}
