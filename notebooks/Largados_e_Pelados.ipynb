{
 "cells": [
  {
   "cell_type": "code",
   "execution_count": null,
   "metadata": {
    "id": "eM2ESLXU2ejQ",
    "notebookRunGroups": {
     "groupValue": "1"
    }
   },
   "outputs": [],
   "source": [
    "import os\n",
    "import random as rn\n",
    "import numpy as np\n",
    "import pandas as pd\n",
    "import tensorflow as tf\n",
    "import matplotlib.pyplot as plt\n",
    "from sklearn.preprocessing import LabelEncoder, StandardScaler\n",
    "from tensorflow.keras.models import Sequential, Model\n",
    "from tensorflow.keras.layers import Dense\n",
    "\n",
    "np.set_printoptions(linewidth=200)\n",
    "\n",
    "%matplotlib inline"
   ]
  },
  {
   "cell_type": "code",
   "execution_count": null,
   "metadata": {
    "id": "WxC9lvGXaABf",
    "notebookRunGroups": {
     "groupValue": "1"
    }
   },
   "outputs": [],
   "source": [
    "def set_random_seeds():\n",
    "    RANDOM_SEED = 1234\n",
    "    os.environ['PYTHONHASHSEED'] = str(RANDOM_SEED)\n",
    "    rn.seed(RANDOM_SEED)\n",
    "    np.random.seed(RANDOM_SEED)\n",
    "    tf.random.set_seed(RANDOM_SEED)"
   ]
  },
  {
   "cell_type": "code",
   "execution_count": null,
   "metadata": {
    "colab": {
     "base_uri": "https://localhost:8080/",
     "height": 403
    },
    "id": "iuXHWN_72neo",
    "notebookRunGroups": {
     "groupValue": "1"
    },
    "outputId": "aa17de39-20f3-4c93-ee70-bcf6c92f5e88"
   },
   "outputs": [],
   "source": [
    "df = pd.read_csv(\"../data/naked_and_afraid.csv\", decimal=\",\")\n",
    "df.head()"
   ]
  },
  {
   "cell_type": "code",
   "execution_count": null,
   "metadata": {
    "id": "KanHBYjs2zHX",
    "notebookRunGroups": {
     "groupValue": "1"
    }
   },
   "outputs": [],
   "source": [
    "shared_cols = [\n",
    "    \"Scheduled Duration\",\n",
    "    \"Location\",\n",
    "    \"Continent\",\n",
    "]\n",
    "\n",
    "female_cols = [\n",
    "    \"Female Age\",\n",
    "    \"Start FPSR\",\n",
    "    \"End FPSR\",\n",
    "    \"F. Duration\",\n",
    "]\n",
    "\n",
    "male_cols = [\n",
    "    \"Male Age\",\n",
    "    \"Start MPSR\",\n",
    "    \"End MPSR\",\n",
    "    \"M. Duration\",\n",
    "]\n",
    "\n",
    "final_cols = shared_cols + [\"Age\", \"Start PSR\", \"End PSR\", \"Duration\"]"
   ]
  },
  {
   "cell_type": "code",
   "execution_count": null,
   "metadata": {
    "colab": {
     "base_uri": "https://localhost:8080/",
     "height": 223
    },
    "id": "W7ZzTwTlNIvr",
    "notebookRunGroups": {
     "groupValue": "1"
    },
    "outputId": "de258100-0d27-4bdd-d675-11fc131743b4"
   },
   "outputs": [],
   "source": [
    "df_female = df[shared_cols + female_cols]\n",
    "df_female.columns = final_cols\n",
    "\n",
    "print(df_female.shape)\n",
    "df_female.head()"
   ]
  },
  {
   "cell_type": "code",
   "execution_count": null,
   "metadata": {
    "colab": {
     "base_uri": "https://localhost:8080/",
     "height": 223
    },
    "id": "WO6JjktfNKcq",
    "notebookRunGroups": {
     "groupValue": "1"
    },
    "outputId": "acf2eb16-0b93-41a3-f491-f3ad79268320"
   },
   "outputs": [],
   "source": [
    "df_male = df[shared_cols + male_cols]\n",
    "df_male.columns = final_cols\n",
    "\n",
    "print(df_male.shape)\n",
    "df_male.head()"
   ]
  },
  {
   "cell_type": "code",
   "execution_count": null,
   "metadata": {
    "colab": {
     "base_uri": "https://localhost:8080/",
     "height": 424
    },
    "id": "fChXDdydNLw-",
    "notebookRunGroups": {
     "groupValue": "1"
    },
    "outputId": "9672c951-e6d8-45a7-f340-7a939070702d"
   },
   "outputs": [],
   "source": [
    "df_final = pd.concat((df_female, df_male), ignore_index=True)\n",
    "\n",
    "df_final[\"sex\"] = [1] * df_female.shape[0] + [0] * df_male.shape[0]\n",
    "df_final[\"has_finished\"] = df_final[\"Scheduled Duration\"] == df_final.Duration\n",
    "df_final.dropna(how=\"any\", subset=final_cols, inplace=True)\n",
    "\n",
    "print(df_final.shape)\n",
    "df_final.sample(n=10, random_state=1234).head(10)"
   ]
  },
  {
   "cell_type": "code",
   "execution_count": null,
   "metadata": {
    "colab": {
     "base_uri": "https://localhost:8080/",
     "height": 363
    },
    "id": "Q_EZr2r4Rh_T",
    "notebookRunGroups": {
     "groupValue": "1"
    },
    "outputId": "3ad9587c-3cfc-48d6-ec70-4e28c59296fd"
   },
   "outputs": [],
   "source": [
    "loc_enc = LabelEncoder()\n",
    "loc_enc.fit(df_final.Location.values)\n",
    "\n",
    "cont_enc = LabelEncoder()\n",
    "cont_enc.fit(df_final.Continent.values)\n",
    "\n",
    "df_samples = df_final.copy(deep=True)\n",
    "df_samples.Location = loc_enc.transform(df_samples.Location)\n",
    "df_samples.Continent = cont_enc.transform(df_samples.Continent)\n",
    "\n",
    "df_samples.sample(n=10, random_state=1234).head(10)"
   ]
  },
  {
   "cell_type": "code",
   "execution_count": null,
   "metadata": {
    "colab": {
     "base_uri": "https://localhost:8080/",
     "height": 445
    },
    "id": "bcrm3_sVQbkH",
    "notebookRunGroups": {
     "groupValue": "1"
    },
    "outputId": "411c9d04-050b-4752-afda-79379fa6165d"
   },
   "outputs": [],
   "source": [
    "df_samples.sex.value_counts().plot(kind=\"bar\")"
   ]
  },
  {
   "cell_type": "code",
   "execution_count": null,
   "metadata": {
    "colab": {
     "base_uri": "https://localhost:8080/",
     "height": 468
    },
    "id": "28NouJEOQ6x8",
    "notebookRunGroups": {
     "groupValue": "1"
    },
    "outputId": "5766a854-446c-4145-e5b6-ab52c0bd2543"
   },
   "outputs": [],
   "source": [
    "df_samples.has_finished.value_counts().plot(kind=\"bar\")"
   ]
  },
  {
   "cell_type": "markdown",
   "metadata": {
    "id": "vG5VCJGITBT4"
   },
   "source": [
    "# Treinando o Modelo"
   ]
  },
  {
   "cell_type": "code",
   "execution_count": null,
   "metadata": {
    "colab": {
     "base_uri": "https://localhost:8080/"
    },
    "id": "dSUwNKjPSRPt",
    "notebookRunGroups": {
     "groupValue": "1"
    },
    "outputId": "6e188adf-3922-48f9-f519-58176252ed94"
   },
   "outputs": [],
   "source": [
    "y_sex = df_samples.sex.values\n",
    "y_has_finished = df_samples.has_finished.values\n",
    "\n",
    "x = df_samples[final_cols + [\"sex\"]].values\n",
    "\n",
    "std = StandardScaler()\n",
    "std.fit(x)\n",
    "x = std.transform(x)\n",
    "\n",
    "print(x.shape, x.dtype)"
   ]
  },
  {
   "cell_type": "code",
   "execution_count": null,
   "metadata": {
    "colab": {
     "base_uri": "https://localhost:8080/"
    },
    "id": "9Wv3PB9mTAy7",
    "notebookRunGroups": {
     "groupValue": "1"
    },
    "outputId": "239027c8-f04e-40cd-b6d1-02fd844367a1",
    "scrolled": true
   },
   "outputs": [],
   "source": [
    "set_random_seeds()\n",
    "\n",
    "model = Sequential([\n",
    "    Dense(4, activation=\"relu\", input_dim=8, name=\"enc_1\"),\n",
    "    Dense(2, activation=\"relu\", name=\"embeddings\"),\n",
    "    Dense(4, activation=\"relu\", name=\"dec_1\"),\n",
    "    Dense(8, activation=\"linear\", name=\"decoded\")\n",
    "])\n",
    "model.summary()\n",
    "\n",
    "model.compile(optimizer=\"adam\", loss=\"mean_squared_error\")\n",
    "\n",
    "model.fit(x, x, batch_size=16, epochs=500, verbose=1)"
   ]
  },
  {
   "cell_type": "code",
   "execution_count": null,
   "metadata": {
    "colab": {
     "base_uri": "https://localhost:8080/"
    },
    "id": "kJvJFPFUT0CM",
    "notebookRunGroups": {
     "groupValue": ""
    },
    "outputId": "dbcfa5cc-70d9-46ac-dc82-508e70278e7d"
   },
   "outputs": [],
   "source": [
    "model_enc = Model(inputs=model.inputs, outputs=model.get_layer(\"embeddings\").output)\n",
    "model_enc.summary()\n",
    "\n",
    "y_embed = model_enc.predict(x)\n",
    "y_embed.shape"
   ]
  },
  {
   "cell_type": "code",
   "execution_count": null,
   "metadata": {
    "colab": {
     "base_uri": "https://localhost:8080/",
     "height": 712
    },
    "id": "X4WrQ2nhU_HT",
    "outputId": "96a9c3b2-a3e9-4f23-e88f-3b71825f0165"
   },
   "outputs": [],
   "source": [
    "mask_women_has_finished = np.logical_and(y_sex == 1, y_has_finished)\n",
    "mask_women_not_finished = np.logical_and(y_sex == 1, y_has_finished == False)\n",
    "mask_men_has_finished = np.logical_and(y_sex == 0, y_has_finished)\n",
    "mask_men_not_finished = np.logical_and(y_sex == 0, y_has_finished == False)\n",
    "\n",
    "emb_whf = y_embed[mask_women_has_finished]\n",
    "emb_wnf = y_embed[mask_women_not_finished]\n",
    "emb_mhf = y_embed[mask_men_has_finished]\n",
    "emb_mnf = y_embed[mask_men_not_finished]\n",
    "\n",
    "plt.figure(figsize=(10, 8))\n",
    "plt.scatter(emb_whf[:, 0], emb_whf[:, 1], marker=\"o\", c=\"#54b3f6\", s=100, label=\"women - has finished\")\n",
    "plt.scatter(emb_wnf[:, 0], emb_wnf[:, 1], marker=\"o\", c=\"#8563eb\", s=100, label=\"women - not finished\")\n",
    "plt.scatter(emb_mhf[:, 0], emb_mhf[:, 1], marker=\"^\", c=\"#54b3f6\", s=100, label=\"men - has finished\")\n",
    "plt.scatter(emb_mnf[:, 0], emb_mnf[:, 1], marker=\"^\", c=\"#8563eb\", s=100, label=\"men - not finished\")\n",
    "\n",
    "# plt.legend()\n",
    "plt.tight_layout()"
   ]
  },
  {
   "cell_type": "code",
   "execution_count": null,
   "metadata": {
    "colab": {
     "base_uri": "https://localhost:8080/",
     "height": 250
    },
    "id": "zladgeDhanap",
    "outputId": "b1322bd7-84a4-4573-df34-f12e8aa5ef20"
   },
   "outputs": [],
   "source": [
    "df_final.head()"
   ]
  },
  {
   "cell_type": "code",
   "execution_count": null,
   "metadata": {
    "colab": {
     "base_uri": "https://localhost:8080/",
     "height": 81
    },
    "id": "nyyka7oIVixv",
    "outputId": "4c5b0d23-967f-46be-d11c-6dad2163abc5"
   },
   "outputs": [],
   "source": [
    "df_me = pd.DataFrame([[21, \"Brazil\", \"South America\", 29, 1.0, 1.0, 1, 0]], columns=df_final.columns[:-1])\n",
    "df_me"
   ]
  },
  {
   "cell_type": "code",
   "execution_count": null,
   "metadata": {
    "colab": {
     "base_uri": "https://localhost:8080/",
     "height": 81
    },
    "id": "_qF-2bWSc38s",
    "outputId": "4fcf4fd1-9e81-4934-884f-ba926de2dbd5"
   },
   "outputs": [],
   "source": [
    "df_sample_me = df_me.copy(deep=True)\n",
    "df_sample_me.Location = loc_enc.transform(df_sample_me.Location)\n",
    "df_sample_me.Continent = cont_enc.transform(df_sample_me.Continent)\n",
    "\n",
    "df_sample_me"
   ]
  },
  {
   "cell_type": "code",
   "execution_count": null,
   "metadata": {
    "colab": {
     "base_uri": "https://localhost:8080/"
    },
    "id": "lTbxMnpidgw1",
    "outputId": "02d1965f-f7f9-4017-f35e-b373fc0cddc5"
   },
   "outputs": [],
   "source": [
    "x_me = std.transform(df_sample_me.values)\n",
    "\n",
    "emb_me = model_enc.predict(x_me)\n",
    "emb_me.shape"
   ]
  },
  {
   "cell_type": "code",
   "execution_count": null,
   "metadata": {
    "colab": {
     "base_uri": "https://localhost:8080/",
     "height": 585
    },
    "id": "TjsFajMAL-SA",
    "outputId": "8b284c1f-1c05-44a4-acbf-9c86baf59739"
   },
   "outputs": [],
   "source": [
    "mask_women_has_finished = np.logical_and(y_sex == 1, y_has_finished)\n",
    "mask_women_not_finished = np.logical_and(y_sex == 1, y_has_finished == False)\n",
    "mask_men_has_finished = np.logical_and(y_sex == 0, y_has_finished)\n",
    "mask_men_not_finished = np.logical_and(y_sex == 0, y_has_finished == False)\n",
    "\n",
    "emb_whf = y_embed[mask_women_has_finished]\n",
    "emb_wnf = y_embed[mask_women_not_finished]\n",
    "emb_mhf = y_embed[mask_men_has_finished]\n",
    "emb_mnf = y_embed[mask_men_not_finished]\n",
    "\n",
    "plt.figure(figsize=(10, 8))\n",
    "plt.scatter(emb_whf[:, 0], emb_whf[:, 1], marker=\"o\", c=\"#54b3f6\", s=100, label=\"women - has finished\")\n",
    "plt.scatter(emb_wnf[:, 0], emb_wnf[:, 1], marker=\"o\", c=\"#8563eb\", s=100, label=\"women - not finished\")\n",
    "plt.scatter(emb_mhf[:, 0], emb_mhf[:, 1], marker=\"^\", c=\"#54b3f6\", s=100, label=\"men - has finished\")\n",
    "plt.scatter(emb_mnf[:, 0], emb_mnf[:, 1], marker=\"^\", c=\"#8563eb\", s=100, label=\"men - not finished\")\n",
    "plt.scatter(emb_me[:, 0], emb_me[:, 1], marker=\"X\", c=\"red\", s=100, label=\"me\")\n",
    "\n",
    "# plt.legend()\n",
    "plt.tight_layout()\n",
    "plt.savefig(\"../plots/me.png\", dpi=300)"
   ]
  },
  {
   "cell_type": "code",
   "execution_count": null,
   "metadata": {
    "id": "M_kB07r2GudM"
   },
   "outputs": [],
   "source": []
  }
 ],
 "metadata": {
  "accelerator": "GPU",
  "colab": {
   "provenance": []
  },
  "kernelspec": {
   "display_name": "Python 3 (ipykernel)",
   "language": "python",
   "name": "python3"
  },
  "language_info": {
   "codemirror_mode": {
    "name": "ipython",
    "version": 3
   },
   "file_extension": ".py",
   "mimetype": "text/x-python",
   "name": "python",
   "nbconvert_exporter": "python",
   "pygments_lexer": "ipython3",
   "version": "3.10.8"
  }
 },
 "nbformat": 4,
 "nbformat_minor": 1
}
