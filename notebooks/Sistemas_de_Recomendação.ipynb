{
 "cells": [
  {
   "cell_type": "code",
   "execution_count": null,
   "metadata": {
    "id": "KzX17pxnRtES",
    "notebookRunGroups": {
     "groupValue": "1"
    }
   },
   "outputs": [],
   "source": [
    "import numpy as np\n",
    "import pandas as pd\n",
    "import matplotlib.pyplot as plt\n",
    "import tensorflow as tf\n",
    "from tensorflow.keras.layers import Dense, Dropout\n",
    "from tensorflow.keras.models import Sequential\n",
    "from tensorflow.keras.optimizers import Adam\n",
    "\n",
    "%matplotlib inline"
   ]
  },
  {
   "cell_type": "code",
   "execution_count": null,
   "metadata": {
    "id": "67uqKLP8XFry",
    "notebookRunGroups": {
     "groupValue": "1"
    }
   },
   "outputs": [],
   "source": [
    "def plot_history(history, figsize=(12, 4), loss_train_key='loss', loss_val_key='val_loss', metric_train_key='accuracy', metric_val_key='val_accuracy'):\n",
    "    loss_train = history.get(loss_train_key, [])\n",
    "    loss_valid = history.get(loss_val_key, [])\n",
    "    metric_train = history.get(metric_train_key, [])\n",
    "    metric_valid = history.get(metric_val_key, [])\n",
    "\n",
    "    plt.figure(figsize=figsize)\n",
    "    plt.subplot(1, 2, 1)\n",
    "    plt.plot(loss_train, label='train')\n",
    "    plt.plot(loss_valid, label='val')\n",
    "    plt.ylim(0)\n",
    "    plt.legend()\n",
    "\n",
    "    if len(metric_train) > 0 or len(metric_valid) > 0:\n",
    "        plt.subplot(1, 2, 2)\n",
    "        plt.plot(metric_train, label='train')\n",
    "        plt.plot(metric_valid, label='val')\n",
    "        plt.ylim(top=1)\n",
    "        plt.legend()"
   ]
  },
  {
   "cell_type": "code",
   "execution_count": null,
   "metadata": {
    "colab": {
     "base_uri": "https://localhost:8080/",
     "height": 206
    },
    "id": "h2A1ELIzzFlM",
    "notebookRunGroups": {
     "groupValue": "1"
    },
    "outputId": "10b9e0ad-d619-4247-f747-c8d308eb893e"
   },
   "outputs": [],
   "source": [
    "df = pd.read_csv(\"../data/interactions.csv\")\n",
    "df = df[['user_id', 'content_id', 'game', 'view']]\n",
    "df.head()"
   ]
  },
  {
   "cell_type": "code",
   "execution_count": null,
   "metadata": {
    "colab": {
     "base_uri": "https://localhost:8080/",
     "height": 206
    },
    "id": "lvJ0SsDrY5GG",
    "notebookRunGroups": {
     "groupValue": "1"
    },
    "outputId": "80b15fc6-8e19-4911-e5d5-213afa42563f"
   },
   "outputs": [],
   "source": [
    "df_game = pd.read_csv(\"../data/articles.csv\")\n",
    "df_game.head()"
   ]
  },
  {
   "cell_type": "code",
   "execution_count": null,
   "metadata": {
    "colab": {
     "base_uri": "https://localhost:8080/",
     "height": 331
    },
    "id": "t-p8fzZ3T30k",
    "notebookRunGroups": {
     "groupValue": "1"
    },
    "outputId": "6d1fda0b-9aea-4cb1-cd90-d49a64da1005"
   },
   "outputs": [],
   "source": [
    "users_items_matrix_df = df.pivot(\n",
    "    index='user_id',\n",
    "    columns='content_id',\n",
    "    values='view'\n",
    ").fillna(0)\n",
    "\n",
    "users_items_matrix_df.head()"
   ]
  },
  {
   "cell_type": "code",
   "execution_count": null,
   "metadata": {
    "colab": {
     "base_uri": "https://localhost:8080/"
    },
    "id": "OIFfRBLM68Ds",
    "notebookRunGroups": {
     "groupValue": "1"
    },
    "outputId": "a7e2ea28-391f-44ec-c176-e6723069dea4"
   },
   "outputs": [],
   "source": [
    "users_items_matrix_df.shape"
   ]
  },
  {
   "cell_type": "markdown",
   "metadata": {
    "id": "g4r1MmYXUmx9"
   },
   "source": [
    "# Model"
   ]
  },
  {
   "cell_type": "code",
   "execution_count": null,
   "metadata": {
    "id": "qEnrFYZKV2Ve",
    "notebookRunGroups": {
     "groupValue": "1"
    }
   },
   "outputs": [],
   "source": [
    "x = users_items_matrix_df.values"
   ]
  },
  {
   "cell_type": "code",
   "execution_count": null,
   "metadata": {
    "colab": {
     "base_uri": "https://localhost:8080/",
     "height": 1000
    },
    "id": "003A6ofOUJsg",
    "notebookRunGroups": {
     "groupValue": "1"
    },
    "outputId": "dbacfb33-41c6-44b5-ecda-cfc0a33f001f"
   },
   "outputs": [],
   "source": [
    "model = Sequential([\n",
    "    Dense(units=512, activation='selu', name='enc_1', input_dim=users_items_matrix_df.shape[1]),\n",
    "    Dense(units=256, activation='selu', name='embeddings'),\n",
    "    Dropout(rate=0.8, name='dropout'),\n",
    "    Dense(units=512, activation='selu', name='dec_1'),\n",
    "    Dense(units=users_items_matrix_df.shape[1], activation='linear', name='user_score_pred')\n",
    "])\n",
    "model.summary()\n",
    "\n",
    "model.compile(optimizer=Adam(lr=1e-4), loss='mse')\n",
    "\n",
    "hist = model.fit(x, x, epochs=50, batch_size=64, shuffle=True, validation_split=0.1)\n",
    "plot_history(hist.history)"
   ]
  },
  {
   "cell_type": "code",
   "execution_count": null,
   "metadata": {
    "colab": {
     "base_uri": "https://localhost:8080/"
    },
    "id": "LnL65FoWUtLL",
    "outputId": "594625c9-28e3-4f8f-8225-b59ae6473ba8"
   },
   "outputs": [],
   "source": [
    "new_matrix = model.predict(x) * (x == 0)"
   ]
  },
  {
   "cell_type": "code",
   "execution_count": null,
   "metadata": {
    "colab": {
     "base_uri": "https://localhost:8080/",
     "height": 331
    },
    "id": "29cIKGoIWo0l",
    "outputId": "b9dfc2c5-521b-4d49-a279-866e3c48e085"
   },
   "outputs": [],
   "source": [
    "new_users_items_matrix_df = pd.DataFrame(\n",
    "    new_matrix,\n",
    "    columns=users_items_matrix_df.columns,\n",
    "    index=users_items_matrix_df.index\n",
    ")\n",
    "new_users_items_matrix_df.head()"
   ]
  },
  {
   "cell_type": "code",
   "execution_count": null,
   "metadata": {
    "id": "qop5IuboWz4w"
   },
   "outputs": [],
   "source": [
    "def recommender_for_user(user_id, interact_matrix, df_content, topn = 10):\n",
    "    pred_scores = interact_matrix.loc[user_id].values\n",
    "\n",
    "    df_scores = pd.DataFrame({\n",
    "        'content_id': list(users_items_matrix_df.columns),\n",
    "        'score': pred_scores\n",
    "    })\n",
    "\n",
    "    df_rec = (df_scores\n",
    "        .set_index('content_id')\n",
    "        .join(df_content.set_index('content_id'))\n",
    "        .sort_values('score', ascending=False)\n",
    "        .head(topn)[['score', 'game']]\n",
    "    )\n",
    "\n",
    "    return df_rec[df_rec.score > 0]"
   ]
  },
  {
   "cell_type": "code",
   "execution_count": null,
   "metadata": {
    "colab": {
     "base_uri": "https://localhost:8080/",
     "height": 269
    },
    "id": "J_N0OJQ4YExr",
    "outputId": "e56b7783-25ea-49ef-c7f4-c9ecd8faba1e"
   },
   "outputs": [],
   "source": [
    "# user_id = 1011, 1319\n",
    "random_idx = np.random.choice(df.user_id.values, size=1)[0]\n",
    "random_idx = 1011\n",
    "recommender_for_user(user_id=random_idx, interact_matrix=users_items_matrix_df, df_content=df_game)"
   ]
  },
  {
   "cell_type": "code",
   "execution_count": null,
   "metadata": {
    "colab": {
     "base_uri": "https://localhost:8080/",
     "height": 394
    },
    "id": "ru0_PaceYLja",
    "outputId": "005a7fd1-8f6c-4e21-c08a-6e13b4855865"
   },
   "outputs": [],
   "source": [
    "recommender_for_user(user_id=random_idx, interact_matrix=new_users_items_matrix_df, df_content=df_game)"
   ]
  },
  {
   "cell_type": "markdown",
   "metadata": {
    "id": "C18tFnwZaelr"
   },
   "source": [
    "# Referências"
   ]
  },
  {
   "cell_type": "markdown",
   "metadata": {
    "id": "vq5WoPoTak_A"
   },
   "source": [
    "- [Deep Learning para Sistemas de Recomendação (Parte 2) — Filtragem Colaborativa com AutoEncoders](https://medium.com/data-hackers/deep-learning-para-sistemas-de-recomendação-parte-2-filtragem-colaborativa-com-autoencoders-347ba7d53bae#:~:text=Um%20Autoencoder%20(AE)%20é%20uma,%2C%20f(x)%3Dh.)"
   ]
  }
 ],
 "metadata": {
  "accelerator": "GPU",
  "colab": {
   "provenance": []
  },
  "kernelspec": {
   "display_name": "Python 3 (ipykernel)",
   "language": "python",
   "name": "python3"
  },
  "language_info": {
   "codemirror_mode": {
    "name": "ipython",
    "version": 3
   },
   "file_extension": ".py",
   "mimetype": "text/x-python",
   "name": "python",
   "nbconvert_exporter": "python",
   "pygments_lexer": "ipython3",
   "version": "3.10.8"
  }
 },
 "nbformat": 4,
 "nbformat_minor": 1
}
