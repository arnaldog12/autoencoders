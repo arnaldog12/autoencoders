{
 "cells": [
  {
   "cell_type": "markdown",
   "metadata": {
    "id": "SiNU_U51s4TL"
   },
   "source": [
    "# Setup"
   ]
  },
  {
   "cell_type": "code",
   "execution_count": null,
   "metadata": {
    "id": "PfSR5shssQ3u"
   },
   "outputs": [],
   "source": [
    "import numpy as np\n",
    "import matplotlib.pyplot as plt\n",
    "import tensorflow as tf\n",
    "from tensorflow.keras.datasets import mnist\n",
    "from tensorflow.keras.models import Sequential, Model\n",
    "from tensorflow.keras.layers import Dense, Conv2D, MaxPool2D, UpSampling2D, Flatten\n",
    "from scipy.spatial.distance import cdist\n",
    "\n",
    "%matplotlib inline"
   ]
  },
  {
   "cell_type": "code",
   "execution_count": null,
   "metadata": {
    "cellView": "form",
    "code_folding": [
     1,
     19
    ],
    "id": "7OduVUsdNz_x"
   },
   "outputs": [],
   "source": [
    "#@title\n",
    "def plot_random_batch(batch, y_true, y_pred=None, batch_size=30, n_cols=10, figsize=(20, 10)):\n",
    "    plt.figure(figsize=figsize)\n",
    "\n",
    "    random_idx = np.random.choice(batch.shape[0], size=batch_size)\n",
    "    x_batch = batch[random_idx].squeeze()\n",
    "    y_batch = y_true[random_idx]\n",
    "\n",
    "    y_pred = y_batch if y_pred is None else y_pred[random_idx]\n",
    "    n_rows = x_batch.shape[0] // n_cols + 1\n",
    "    is_gray = (batch.shape[-1] == 1) or (len(batch.shape) == 3)\n",
    "    for img, true, pred, sub in zip(x_batch, y_batch, y_pred, range(1, len(batch)+1)):\n",
    "        plt.subplot(n_rows, n_cols, sub)\n",
    "        plt.imshow(img.astype(np.uint8), cmap='gray' if is_gray else None)\n",
    "\n",
    "        plt.title(\"T:{} P:{}\".format(true, pred), color = 'green' if true == pred else 'red')\n",
    "        plt.axis('off')\n",
    "    plt.tight_layout()\n",
    "\n",
    "def plot_history(history, figsize=(12, 4), loss_train_key='loss', loss_val_key='val_loss', metric_train_key='accuracy', metric_val_key='val_accuracy'):\n",
    "    loss_train = history.get(loss_train_key, [])\n",
    "    loss_valid = history.get(loss_val_key, [])\n",
    "    metric_train = history.get(metric_train_key, [])\n",
    "    metric_valid = history.get(metric_val_key, [])\n",
    "\n",
    "    plt.figure(figsize=figsize)\n",
    "    plt.subplot(1, 2, 1)\n",
    "    plt.plot(loss_train, label='train')\n",
    "    plt.plot(loss_valid, label='val')\n",
    "    plt.ylim(0)\n",
    "    plt.legend()\n",
    "\n",
    "    if len(metric_train) > 0 or len(metric_valid) > 0:\n",
    "        plt.subplot(1, 2, 2)\n",
    "        plt.plot(metric_train, label='train')\n",
    "        plt.plot(metric_valid, label='val')\n",
    "        plt.ylim(top=1)\n",
    "        plt.legend()"
   ]
  },
  {
   "cell_type": "markdown",
   "metadata": {
    "id": "38Gyfmxos7JT"
   },
   "source": [
    "# Data Loading"
   ]
  },
  {
   "cell_type": "code",
   "execution_count": null,
   "metadata": {
    "colab": {
     "base_uri": "https://localhost:8080/"
    },
    "id": "EjrxbN0rs1cE",
    "outputId": "a9c9066c-3deb-481c-a5dd-13c98bd23010"
   },
   "outputs": [],
   "source": [
    "(x_train, y_train), (x_test, y_test) = mnist.load_data()\n",
    "x_train = np.expand_dims(x_train, axis=-1) / 255\n",
    "x_test = np.expand_dims(x_test, axis=-1) / 255\n",
    "\n",
    "print(x_train.shape, x_train.dtype)\n",
    "print(x_test.shape, x_test.dtype)"
   ]
  },
  {
   "cell_type": "markdown",
   "metadata": {
    "id": "onrCPfvptspt"
   },
   "source": [
    "# Autoencoder"
   ]
  },
  {
   "cell_type": "code",
   "execution_count": null,
   "metadata": {
    "colab": {
     "base_uri": "https://localhost:8080/",
     "height": 1000
    },
    "id": "PJTuprDXtRS9",
    "outputId": "7f3a8eec-bc05-4c1d-f1a8-d2844b32ac3d"
   },
   "outputs": [],
   "source": [
    "model = Sequential([\n",
    "    # encoder\n",
    "    Conv2D(filters=16, kernel_size=(3, 3), strides=(1, 1), padding='same', activation='relu', name='enc_1', input_shape=(28, 28, 1)),\n",
    "    MaxPool2D(pool_size=(2, 2), padding='valid', name=\"pool_1\"),\n",
    "    Conv2D(filters=8, kernel_size=(3, 3), strides=(1, 1), padding='same', activation='relu', name='enc_2'),\n",
    "    MaxPool2D(pool_size=(2, 2), padding='valid', name='encoded'),\n",
    "\n",
    "    # decoder\n",
    "    UpSampling2D(size=(2, 2), name=\"up_2\"),\n",
    "    Conv2D(filters=16, kernel_size=(3, 3), strides=(1, 1), padding='same', activation='relu', name='dec_2'),\n",
    "    UpSampling2D(size=(2, 2), name=\"up_1\"),\n",
    "    Conv2D(filters=1, kernel_size=(3, 3), strides=(1, 1), padding='same', activation='sigmoid', name='decoded')\n",
    "])\n",
    "model.summary()\n",
    "\n",
    "# binary cross entropy pra tentar acertar a classe do pixel\n",
    "model.compile(optimizer='adam', loss='binary_crossentropy')\n",
    "\n",
    "# batch=128 pra treinar mais rápido\n",
    "hist = model.fit(x_train, x_train, batch_size=128, epochs=10, verbose=1, validation_data=(x_test, x_test))\n",
    "\n",
    "plot_history(hist.history)"
   ]
  },
  {
   "cell_type": "code",
   "execution_count": null,
   "metadata": {
    "colab": {
     "base_uri": "https://localhost:8080/",
     "height": 211
    },
    "id": "Go1Y8RaquR8r",
    "outputId": "c17d486c-2bc6-4a3a-9c6d-0ad910657179"
   },
   "outputs": [],
   "source": [
    "n_imgs = 10\n",
    "\n",
    "random_idxs = np.random.choice(range(x_test.shape[0]), size=n_imgs)\n",
    "im_ori = x_test[random_idxs]\n",
    "im_dec = model.predict(im_ori)\n",
    "\n",
    "plt.figure(figsize=(20, 4))\n",
    "for i in range(n_imgs):\n",
    "    plt.subplot(2, n_imgs, i + 1)\n",
    "    plt.imshow(im_ori[i].reshape(28, 28), cmap='gray')\n",
    "    plt.axis('off')\n",
    "\n",
    "    plt.subplot(2, n_imgs, i + 1 + n_imgs)\n",
    "    plt.imshow(im_dec[i].reshape(28, 28), cmap='gray')\n",
    "    plt.axis('off')"
   ]
  },
  {
   "cell_type": "markdown",
   "metadata": {
    "id": "mPoQaGgnoqaU"
   },
   "source": [
    "# Filtrando Ruído\n"
   ]
  },
  {
   "cell_type": "code",
   "execution_count": null,
   "metadata": {
    "id": "p6lsiUk5ooLd"
   },
   "outputs": [],
   "source": [
    "noise_factor = 0.5\n",
    "x_train_noisy = x_train + noise_factor * np.random.normal(loc=0.0, scale=1.0, size=x_train.shape)\n",
    "x_test_noisy = x_test + noise_factor * np.random.normal(loc=0.0, scale=1.0, size=x_test.shape)\n",
    "\n",
    "x_train_noisy = np.clip(x_train_noisy,0.0, 1.0)\n",
    "x_test_noisy  = np.clip(x_test_noisy, 0.0, 1.0)"
   ]
  },
  {
   "cell_type": "code",
   "execution_count": null,
   "metadata": {
    "colab": {
     "base_uri": "https://localhost:8080/",
     "height": 101
    },
    "id": "Az9x0dFsoxvd",
    "outputId": "56efe033-8a4c-4c8b-9ce5-e4382156c714"
   },
   "outputs": [],
   "source": [
    "n_imgs = 10\n",
    "\n",
    "random_idxs = np.random.choice(range(x_test_noisy.shape[0]), size=n_imgs)\n",
    "im_ori = x_test_noisy[random_idxs]\n",
    "\n",
    "plt.figure(figsize=(20, 4))\n",
    "for i in range(n_imgs):\n",
    "    plt.subplot(1, n_imgs, i + 1)\n",
    "    plt.imshow(im_ori[i].reshape(28, 28), cmap='gray')\n",
    "    plt.axis('off')"
   ]
  },
  {
   "cell_type": "code",
   "execution_count": null,
   "metadata": {
    "colab": {
     "base_uri": "https://localhost:8080/",
     "height": 1000
    },
    "id": "_SHmADlrpL03",
    "outputId": "aacc3a93-fb30-4e2d-9125-cfe67c55fbeb"
   },
   "outputs": [],
   "source": [
    "model_noisy = Sequential([\n",
    "    # encoder\n",
    "    Conv2D(filters=16, kernel_size=(3, 3), strides=(1, 1), padding='same', activation='relu', name='enc_1', input_shape=(28, 28, 1)),\n",
    "    MaxPool2D(pool_size=(2, 2), padding='valid', name=\"pool_1\"),\n",
    "    Conv2D(filters=8, kernel_size=(3, 3), strides=(1, 1), padding='same', activation='relu', name='enc_2'),\n",
    "    MaxPool2D(pool_size=(2, 2), padding='valid', name='encoded'),\n",
    "\n",
    "    # decoder\n",
    "    UpSampling2D(size=(2, 2), name=\"up_2\"),\n",
    "    Conv2D(filters=16, kernel_size=(3, 3), strides=(1, 1), padding='same', activation='relu', name='dec_2'),\n",
    "    UpSampling2D(size=(2, 2), name=\"up_1\"),\n",
    "    Conv2D(filters=1, kernel_size=(3, 3), strides=(1, 1), padding='same', activation='sigmoid', name='decoded')\n",
    "])\n",
    "model_noisy.summary()\n",
    "\n",
    "# binary cross entropy pra tentar acertar a classe do pixel\n",
    "model_noisy.compile(optimizer='adam', loss='binary_crossentropy')\n",
    "\n",
    "# batch=128 pra treinar mais rápido\n",
    "hist = model_noisy.fit(\n",
    "    x_train_noisy,\n",
    "    x_train,\n",
    "    batch_size=128,\n",
    "    epochs=10,\n",
    "    verbose=1,\n",
    "    validation_data=(x_test_noisy, x_test)\n",
    ")\n",
    "\n",
    "plot_history(hist.history)"
   ]
  },
  {
   "cell_type": "code",
   "execution_count": null,
   "metadata": {
    "colab": {
     "base_uri": "https://localhost:8080/",
     "height": 211
    },
    "id": "U2eOl4hfpcYU",
    "outputId": "70957c07-418b-48c8-a756-163ddacad747"
   },
   "outputs": [],
   "source": [
    "n_imgs = 10\n",
    "\n",
    "random_idxs = np.random.choice(range(x_test_noisy.shape[0]), size=n_imgs)\n",
    "im_ori = x_test_noisy[random_idxs]\n",
    "im_dec = model_noisy.predict(im_ori)\n",
    "\n",
    "plt.figure(figsize=(20, 4))\n",
    "for i in range(n_imgs):\n",
    "    plt.subplot(2, n_imgs, i + 1)\n",
    "    plt.imshow(im_ori[i].reshape(28, 28), cmap='gray')\n",
    "    plt.axis('off')\n",
    "\n",
    "    plt.subplot(2, n_imgs, i + 1 + n_imgs)\n",
    "    plt.imshow(im_dec[i].reshape(28, 28), cmap='gray')\n",
    "    plt.axis('off')"
   ]
  },
  {
   "cell_type": "markdown",
   "metadata": {
    "id": "wmNCIDv9POU0"
   },
   "source": [
    "# Busca por Similaridade"
   ]
  },
  {
   "cell_type": "code",
   "execution_count": null,
   "metadata": {
    "colab": {
     "base_uri": "https://localhost:8080/"
    },
    "id": "mVngg7wa5B2H",
    "outputId": "3984976c-a980-4cc9-ec1b-8f54f969412a"
   },
   "outputs": [],
   "source": [
    "encoder = Model(inputs=model.input, outputs=model.get_layer(name='encoded').output)\n",
    "x_test_enc = encoder.predict(x_test)\n",
    "x_test_enc.shape"
   ]
  },
  {
   "cell_type": "code",
   "execution_count": null,
   "metadata": {
    "colab": {
     "base_uri": "https://localhost:8080/"
    },
    "id": "ueHdd7nRPyjy",
    "outputId": "acc730b2-fc6b-4cb6-9139-51204915d44e"
   },
   "outputs": [],
   "source": [
    "embeddings = x_test_enc.reshape(x_test_enc.shape[0], -1)\n",
    "embeddings.shape"
   ]
  },
  {
   "cell_type": "code",
   "execution_count": null,
   "metadata": {
    "colab": {
     "base_uri": "https://localhost:8080/",
     "height": 447
    },
    "id": "15Gy0IavQQtR",
    "outputId": "2a6e60b8-3145-4830-ae69-d9c8b0d7f57c"
   },
   "outputs": [],
   "source": [
    "random_idx = np.random.choice(range(x_test.shape[0]), size=1)\n",
    "im_ref = x_test[random_idx]\n",
    "emb_ref = embeddings[random_idx]\n",
    "\n",
    "plt.imshow(im_ref.squeeze(), cmap='gray')"
   ]
  },
  {
   "cell_type": "code",
   "execution_count": null,
   "metadata": {
    "colab": {
     "base_uri": "https://localhost:8080/",
     "height": 60
    },
    "id": "PgK7J8clQfDG",
    "outputId": "e160d1cd-6c09-41fd-96a9-33b0b614c5b9"
   },
   "outputs": [],
   "source": [
    "n_imgs = 20\n",
    "\n",
    "distances = cdist(emb_ref, embeddings).squeeze()\n",
    "closest_idxs = np.argsort(distances)[1:n_imgs+1] # from 1 because the img in 0 is the reference image itself\n",
    "\n",
    "im_ori = x_test[closest_idxs]\n",
    "\n",
    "plt.figure(figsize=(30, 4))\n",
    "for i in range(n_imgs):\n",
    "    plt.subplot(2, n_imgs, i + 1)\n",
    "    plt.imshow(im_ori[i].reshape(28, 28), cmap='gray')\n",
    "    plt.axis('off')"
   ]
  },
  {
   "cell_type": "code",
   "execution_count": null,
   "metadata": {
    "id": "n1j9YrSmifvD"
   },
   "outputs": [],
   "source": []
  }
 ],
 "metadata": {
  "accelerator": "GPU",
  "colab": {
   "provenance": []
  },
  "gpuClass": "standard",
  "kernelspec": {
   "display_name": "Python 3 (ipykernel)",
   "language": "python",
   "name": "python3"
  },
  "language_info": {
   "codemirror_mode": {
    "name": "ipython",
    "version": 3
   },
   "file_extension": ".py",
   "mimetype": "text/x-python",
   "name": "python",
   "nbconvert_exporter": "python",
   "pygments_lexer": "ipython3",
   "version": "3.9.16"
  }
 },
 "nbformat": 4,
 "nbformat_minor": 1
}
